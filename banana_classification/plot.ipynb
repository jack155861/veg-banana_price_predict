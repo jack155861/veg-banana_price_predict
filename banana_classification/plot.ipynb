{
 "cells": [
  {
   "cell_type": "code",
   "execution_count": 8,
   "id": "1fe488c6",
   "metadata": {},
   "outputs": [],
   "source": [
    "from tensorflow.keras.models import load_model\n",
    "from tensorflow.keras.utils import get_custom_objects\n",
    "import pandas as pd\n",
    "from tensorflow.keras.backend import sigmoid\n",
    "import numpy as np\n",
    "\n",
    "def swish(x, beta = 1):\n",
    "    # https://www.geeksforgeeks.org/ml-swish-function-by-google-in-keras/\n",
    "    return (x * sigmoid(beta * x))\n",
    "def leaky_relu(x):\n",
    "    return tf.nn.leaky_relu(x, alpha=0.25)\n",
    "def get_weighted_loss(weights):\n",
    "    def weighted_loss(y_true, y_pred):\n",
    "        return K.mean((weights[:,0]**(1-y_true))*(weights[:,1]**(y_true))*K.binary_crossentropy(y_true, y_pred), axis=-1)\n",
    "    return weighted_loss\n",
    "def weighted_loss(y_true, y_pred):\n",
    "    return K.mean((weights[:,0]**(1-y_true))*(weights[:,1]**(y_true))*K.binary_crossentropy(y_true, y_pred), axis=-1)\n",
    "\n",
    "def image_convert(a):\n",
    "    new = np.zeros((30, 30))\n",
    "    for i in range(30):\n",
    "        if int(a[i]*100)==0:\n",
    "            d = 29\n",
    "        elif int(a[i]*100)==100:\n",
    "            d = 0\n",
    "        else:\n",
    "            d = 30-int(30-(1-a[i])*30)\n",
    "            if d==30:\n",
    "                d = 29\n",
    "        new[d, i] = 1\n",
    "    return new\n",
    "\n",
    "get_custom_objects().update({'swish': swish})\n",
    "get_custom_objects().update({'leaky_relu': leaky_relu})\n",
    "get_custom_objects().update({\"get_weighted_loss\": get_weighted_loss})\n",
    "get_custom_objects().update({\"weighted_loss\": weighted_loss})"
   ]
  },
  {
   "cell_type": "code",
   "execution_count": 5,
   "id": "1edf5a52",
   "metadata": {},
   "outputs": [],
   "source": [
    "banana_X_train = pd.read_pickle(\"banana_X_train.pkl\")\n",
    "banana_X_val = pd.read_pickle(\"banana_X_val.pkl\")\n",
    "banana_Y_train = pd.read_pickle(\"banana_Y_train.pkl\")\n",
    "banana_Y_val = pd.read_pickle(\"banana_Y_val.pkl\")\n",
    "cols_name = [[y+'-'+str(x).rjust(2,\"0\") for x in range(1,31)] for y in ['RSV','上價中位數','下價中位數','中價中位數','交易量','平均價','雨量']]\n",
    "cols_name_2 = [x for x in banana_X_train.columns.tolist() if '-' not in x]\n",
    "\n",
    "train_X_num = banana_X_train[cols_name_2[1:]].values\n",
    "val_X_num = banana_X_val[cols_name_2[1:]].values\n",
    "\n",
    "train_Y_1 = banana_Y_train[[x for x in banana_Y_train.columns if '成本價格' in x]].values\n",
    "val_Y_1 = banana_Y_val[[x for x in banana_Y_val.columns if '成本價格' in x]].values\n",
    "\n",
    "train_X_lstm_1 = []\n",
    "for i in range(len(cols_name)):\n",
    "    tmp = banana_X_train[cols_name[i]].iloc[:,-7:]\n",
    "    train_X_lstm_1.append(tmp)\n",
    "train_X_lstm_1 = np.stack(train_X_lstm_1,axis=2)\n",
    "val_X_lstm_1 = []\n",
    "for i in range(len(cols_name)):\n",
    "    tmp = banana_X_val[cols_name[i]].iloc[:,-7:]\n",
    "    val_X_lstm_1.append(tmp)\n",
    "val_X_lstm_1 = np.stack(val_X_lstm_1,axis=2)\n",
    "\n",
    "train_X_lstm_2 = []\n",
    "for i in range(len(cols_name)):\n",
    "    tmp_all = []\n",
    "    tmp = banana_X_train[cols_name[i]].iloc[:,-13:]\n",
    "    for j in range(7):\n",
    "        tmp_1 = tmp.iloc[:,j:j+7]\n",
    "        tmp_all.append(tmp_1)\n",
    "    tmp_all = np.stack(tmp_all,axis=2)\n",
    "    train_X_lstm_2.append(tmp_all)\n",
    "train_X_lstm_2 = np.stack(train_X_lstm_2,axis=3)\n",
    "\n",
    "val_X_lstm_2 = []\n",
    "for i in range(len(cols_name)):\n",
    "    tmp_all = []\n",
    "    tmp = banana_X_val[cols_name[i]].iloc[:,-13:]\n",
    "    for j in range(7):\n",
    "        tmp_1 = tmp.iloc[:,j:j+7]\n",
    "        tmp_all.append(tmp_1)\n",
    "    tmp_all = np.stack(tmp_all,axis=2)\n",
    "    val_X_lstm_2.append(tmp_all)\n",
    "val_X_lstm_2 = np.stack(val_X_lstm_2,axis=3)\n",
    "\n",
    "train_X_lstm_4 = np.stack([np.stack([image_convert(x) for x in banana_X_train[cols_name[y]].values]) for y in range(len(cols_name))], axis=3)\n",
    "val_X_lstm_4 = np.stack([np.stack([image_convert(x) for x in banana_X_val[cols_name[y]].values]) for y in range(len(cols_name))], axis=3)\n",
    "\n",
    "data_X = {'Conv1D':[train_X_lstm_1, val_X_lstm_1],\n",
    "          'Vanilla':[train_X_lstm_1, val_X_lstm_1],\n",
    "          'Stacked':[train_X_lstm_1, val_X_lstm_1],\n",
    "          'Bidirectional':[train_X_lstm_1, val_X_lstm_1],\n",
    "          'Conv1D_LSTM':[train_X_lstm_2, val_X_lstm_2],\n",
    "          'Conv2D_1':[train_X_lstm_2, val_X_lstm_2],\n",
    "          'Conv2D_2':[train_X_lstm_4, val_X_lstm_4]}"
   ]
  },
  {
   "cell_type": "code",
   "execution_count": 44,
   "id": "554d9f2d",
   "metadata": {},
   "outputs": [
    {
     "name": "stdout",
     "output_type": "stream",
     "text": [
      "WARNING:tensorflow:Layer times_lstm_1 will not use cuDNN kernels since it doesn't meet the criteria. It will use a generic GPU kernel as fallback when running on GPU.\n"
     ]
    }
   ],
   "source": [
    "weight = 'model/Conv1D_LSTM/0.0001-sgd-swish-relu/weights_accuracy.hdf5'\n",
    "model = load_model(weight)\n",
    "data_train = model.predict([data_X[\"Conv1D_LSTM\"][1],val_X_num], verbose = 0)\n",
    "\n",
    "before = banana_Y_val[['成本價格-02', '成本價格-03', '成本價格-04', '成本價格-05', '成本價格-06']].values\n",
    "after = data_train"
   ]
  },
  {
   "cell_type": "code",
   "execution_count": 45,
   "id": "1e8e0878",
   "metadata": {},
   "outputs": [
    {
     "data": {
      "image/png": "[encoded data removed]",
      "text/plain": [
       "<Figure size 504x576 with 1 Axes>"
      ]
     },
     "metadata": {
      "needs_background": "light"
     },
     "output_type": "display_data"
    }
   ],
   "source": [
    "from sklearn.metrics import precision_recall_curve\n",
    "from sklearn.metrics import average_precision_score\n",
    "from sklearn.metrics import PrecisionRecallDisplay\n",
    "from itertools import cycle\n",
    "import matplotlib.pyplot as plt\n",
    "\n",
    "_, ax = plt.subplots(figsize=(7, 8))\n",
    "\n",
    "# For each class\n",
    "colors = cycle([\"navy\", \"turquoise\", \"darkorange\", \"cornflowerblue\", \"teal\"])\n",
    "\n",
    "precision = dict()\n",
    "recall = dict()\n",
    "average_precision = dict()\n",
    "for i in range(5):\n",
    "    precision[i], recall[i], _ = precision_recall_curve(before[:, i], after[:, i])\n",
    "    average_precision[i] = average_precision_score(before[:, i], after[:, i])\n",
    "\n",
    "# A \"micro-average\": quantifying score on all classes jointly\n",
    "precision[\"micro\"], recall[\"micro\"], _ = precision_recall_curve(\n",
    "    before.ravel(), after.ravel()\n",
    ")\n",
    "average_precision[\"micro\"] = average_precision_score(before, after, average=\"micro\")\n",
    "\n",
    "display = PrecisionRecallDisplay(\n",
    "    recall=recall[\"micro\"],\n",
    "    precision=precision[\"micro\"],\n",
    "    average_precision=average_precision[\"micro\"],\n",
    ")\n",
    "display.plot(ax=ax, name=\"Micro-average PR value\", color=\"gold\")\n",
    "\n",
    "for i, color in zip(range(5), colors):\n",
    "    display = PrecisionRecallDisplay(\n",
    "        recall=recall[i],\n",
    "        precision=precision[i],\n",
    "        average_precision=average_precision[i],\n",
    "    )\n",
    "    display.plot(ax=ax, name=f\"PR value for after day {i}\", color=color)"
   ]
  },
  {
   "cell_type": "code",
   "execution_count": null,
   "id": "3cb992d8",
   "metadata": {},
   "outputs": [],
   "source": []
  }
 ],
 "metadata": {
  "kernelspec": {
   "display_name": "Python 3",
   "language": "python",
   "name": "python3"
  },
  "language_info": {
   "codemirror_mode": {
    "name": "ipython",
    "version": 3
   },
   "file_extension": ".py",
   "mimetype": "text/x-python",
   "name": "python",
   "nbconvert_exporter": "python",
   "pygments_lexer": "ipython3",
   "version": "3.8.10"
  }
 },
 "nbformat": 4,
 "nbformat_minor": 5
}
