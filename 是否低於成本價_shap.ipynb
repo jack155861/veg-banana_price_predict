{
  "nbformat": 4,
  "nbformat_minor": 0,
  "metadata": {
    "colab": {
      "provenance": []
    },
    "kernelspec": {
      "name": "python3",
      "display_name": "Python 3"
    },
    "language_info": {
      "name": "python"
    }
  },
  "cells": [
    {
      "cell_type": "code",
      "source": [
        "import tensorflow as tf    \n",
        "tf.compat.v1.disable_v2_behavior() "
      ],
      "metadata": {
        "colab": {
          "base_uri": "https://localhost:8080/"
        },
        "id": "KEzN38mF1zPc",
        "outputId": "92dc0336-fc59-4f3a-dc4d-d0567bba0b86"
      },
      "execution_count": null,
      "outputs": [
        {
          "output_type": "stream",
          "name": "stderr",
          "text": [
            "WARNING:tensorflow:From /usr/local/lib/python3.7/dist-packages/tensorflow/python/compat/v2_compat.py:107: disable_resource_variables (from tensorflow.python.ops.variable_scope) is deprecated and will be removed in a future version.\n",
            "Instructions for updating:\n",
            "non-resource variables are not supported in the long term\n"
          ]
        }
      ]
    },
    {
      "cell_type": "code",
      "source": [
        "from tensorflow.keras.layers import \\\n",
        "    BatchNormalization, Dropout, LayerNormalization, \\\n",
        "    Input, Conv1D, Activation, concatenate, Dense, Flatten, \\\n",
        "    GlobalMaxPooling1D, GlobalAveragePooling1D, MaxPooling1D, \\\n",
        "    LSTM, TimeDistributed, \\\n",
        "    Conv2D, MaxPool2D, GlobalMaxPool2D, MaxPooling2D, \\\n",
        "    PReLU, LeakyReLU, Bidirectional, ConvLSTM2D\n",
        "from tensorflow.keras.callbacks import ReduceLROnPlateau, EarlyStopping, ModelCheckpoint, CSVLogger, Callback\n",
        "from tensorflow.keras.models import Model\n",
        "from tensorflow.keras.regularizers import l2\n",
        "from tensorflow.keras.constraints import max_norm as maxnorm\n",
        "from tensorflow.keras.utils import plot_model, get_custom_objects\n",
        "from tensorflow.keras.optimizers import SGD, Nadam, Adam\n",
        "from tensorflow.keras.backend import sigmoid\n",
        "import tensorflow as tf\n",
        "from tensorflow.keras.utils import to_categorical\n",
        "import pandas as pd\n",
        "import numpy as np\n",
        "import matplotlib.pyplot as plt\n",
        "import os, time\n",
        "from sklearn.utils.class_weight import compute_class_weight\n",
        "import tensorflow.keras.backend as K\n",
        "#from tensorflow.keras.activations import gelu\n",
        "import matplotlib.pyplot as plt\n",
        "import argparse\n",
        "from multiprocessing.dummy import Pool as ThreadPool"
      ],
      "metadata": {
        "id": "dU98eHZt6pwD"
      },
      "execution_count": null,
      "outputs": []
    },
    {
      "cell_type": "code",
      "execution_count": null,
      "metadata": {
        "id": "csYLt_cjt5YR"
      },
      "outputs": [],
      "source": [
        "from tensorflow.keras.models import load_model\n",
        "from tensorflow.keras.utils import get_custom_objects\n",
        "import pandas as pd\n",
        "from tensorflow.keras.backend import sigmoid\n",
        "import numpy as np\n",
        "import os\n",
        "os.environ[\"CUDA_VISIBLE_DEVICES\"]=\"0\"\n",
        "\n",
        "def swish(x, beta = 1):\n",
        "    # https://www.geeksforgeeks.org/ml-swish-function-by-google-in-keras/\n",
        "    return (x * sigmoid(beta * x))\n",
        "def leaky_relu(x):\n",
        "    return tf.nn.leaky_relu(x, alpha=0.25)\n",
        "def get_weighted_loss(weights):\n",
        "    def weighted_loss(y_true, y_pred):\n",
        "        return K.mean((weights[:,0]**(1-y_true))*(weights[:,1]**(y_true))*K.binary_crossentropy(y_true, y_pred), axis=-1)\n",
        "    return weighted_loss\n",
        "def weighted_loss(y_true, y_pred):\n",
        "    return K.mean((weights[:,0]**(1-y_true))*(weights[:,1]**(y_true))*K.binary_crossentropy(y_true, y_pred), axis=-1)\n",
        "\n",
        "def image_convert(a):\n",
        "    new = np.zeros((30, 30))\n",
        "    for i in range(30):\n",
        "        if int(a[i]*100)==0:\n",
        "            d = 29\n",
        "        elif int(a[i]*100)==100:\n",
        "            d = 0\n",
        "        else:\n",
        "            d = 30-int(30-(1-a[i])*30)\n",
        "            if d==30:\n",
        "                d = 29\n",
        "        new[d, i] = 1\n",
        "    return new\n",
        "\n",
        "get_custom_objects().update({'swish': swish})\n",
        "get_custom_objects().update({'leaky_relu': leaky_relu})\n",
        "get_custom_objects().update({\"get_weighted_loss\": get_weighted_loss})\n",
        "get_custom_objects().update({\"weighted_loss\": weighted_loss})"
      ]
    },
    {
      "cell_type": "code",
      "source": [
        "banana_X_train = pd.read_excel(\"veg_X_train.xlsx\")\n",
        "banana_X_val = pd.read_excel(\"veg_X_val.xlsx\")\n",
        "banana_Y_train = pd.read_excel(\"veg_Y_train.xlsx\")\n",
        "banana_Y_val = pd.read_excel(\"veg_Y_val.xlsx\")\n",
        "\n",
        "cols_name = [[y+'-'+str(x).rjust(2,\"0\") for x in range(1,31)] for y in ['RSV','上價中位數','下價中位數','中價中位數','交易量','平均價','雨量']]\n",
        "cols_name_2 = [x for x in banana_X_train.columns.tolist() if '-' not in x]\n",
        "\n",
        "train_X_num = banana_X_train[cols_name_2[1:]].values\n",
        "val_X_num = banana_X_val[cols_name_2[1:]].values\n",
        "\n",
        "train_Y_1 = banana_Y_train[[x for x in banana_Y_train.columns if '成本價格' in x]].values\n",
        "val_Y_1 = banana_Y_val[[x for x in banana_Y_val.columns if '成本價格' in x]].values\n",
        "\n",
        "train_X_lstm_1 = []\n",
        "for i in range(len(cols_name)):\n",
        "    tmp = banana_X_train[cols_name[i]].iloc[:,-7:]\n",
        "    train_X_lstm_1.append(tmp)\n",
        "train_X_lstm_1 = np.stack(train_X_lstm_1,axis=2)\n",
        "val_X_lstm_1 = []\n",
        "for i in range(len(cols_name)):\n",
        "    tmp = banana_X_val[cols_name[i]].iloc[:,-7:]\n",
        "    val_X_lstm_1.append(tmp)\n",
        "val_X_lstm_1 = np.stack(val_X_lstm_1,axis=2)\n",
        "\n",
        "train_X_lstm_2 = []\n",
        "for i in range(len(cols_name)):\n",
        "    tmp_all = []\n",
        "    tmp = banana_X_train[cols_name[i]].iloc[:,-13:]\n",
        "    for j in range(7):\n",
        "        tmp_1 = tmp.iloc[:,j:j+7]\n",
        "        tmp_all.append(tmp_1)\n",
        "    tmp_all = np.stack(tmp_all,axis=2)\n",
        "    train_X_lstm_2.append(tmp_all)\n",
        "train_X_lstm_2 = np.stack(train_X_lstm_2,axis=3)\n",
        "\n",
        "val_X_lstm_2 = []\n",
        "for i in range(len(cols_name)):\n",
        "    tmp_all = []\n",
        "    tmp = banana_X_val[cols_name[i]].iloc[:,-13:]\n",
        "    for j in range(7):\n",
        "        tmp_1 = tmp.iloc[:,j:j+7]\n",
        "        tmp_all.append(tmp_1)\n",
        "    tmp_all = np.stack(tmp_all,axis=2)\n",
        "    val_X_lstm_2.append(tmp_all)\n",
        "val_X_lstm_2 = np.stack(val_X_lstm_2,axis=3)\n",
        "\n",
        "train_X_lstm_4 = np.stack([np.stack([image_convert(x) for x in banana_X_train[cols_name[y]].values]) for y in range(len(cols_name))], axis=3)\n",
        "val_X_lstm_4 = np.stack([np.stack([image_convert(x) for x in banana_X_val[cols_name[y]].values]) for y in range(len(cols_name))], axis=3)\n",
        "\n",
        "data_X = {'Conv1D':[train_X_lstm_1, val_X_lstm_1],\n",
        "          'Vanilla':[train_X_lstm_1, val_X_lstm_1],\n",
        "          'Stacked':[train_X_lstm_1, val_X_lstm_1],\n",
        "          'Bidirectional':[train_X_lstm_1, val_X_lstm_1],\n",
        "          'Conv1D_LSTM':[train_X_lstm_2, val_X_lstm_2],\n",
        "          'Conv2D_1':[train_X_lstm_2, val_X_lstm_2],\n",
        "          'Conv2D_2':[train_X_lstm_4, val_X_lstm_4]}"
      ],
      "metadata": {
        "id": "qqTkbEM0ulGc"
      },
      "execution_count": null,
      "outputs": []
    },
    {
      "cell_type": "code",
      "source": [
        "        train_Y_1 = banana_Y_train[[x for x in banana_Y_train.columns if '成本價格' in x]].values\n",
        "        val_Y_1 = banana_Y_val[[x for x in banana_Y_val.columns if '成本價格' in x]].values\n",
        "\n",
        "        # build model\n",
        "        model1_in, model1_out = conv1d_model(data_X[\"Conv1D_LSTM\"][0],\n",
        "                                             Normalize_rate = 0, \n",
        "                                             activation_conv = 'relu', \n",
        "                                             activation_dense = 'relu')"
      ],
      "metadata": {
        "id": "XhrVfV8v6lwq"
      },
      "execution_count": null,
      "outputs": []
    },
    {
      "cell_type": "code",
      "source": [
        "model = load_model('weights_accuracy.hdf5',compile=False)"
      ],
      "metadata": {
        "id": "3yvKLVKhFn1I"
      },
      "execution_count": null,
      "outputs": []
    },
    {
      "cell_type": "code",
      "source": [
        "import shap\n",
        "explainer = shap.DeepExplainer(model, [data_X[\"Conv1D_LSTM\"][0],train_X_num], learning_phase_flags = None)"
      ],
      "metadata": {
        "colab": {
          "base_uri": "https://localhost:8080/"
        },
        "id": "bAf4fRJCFn3g",
        "outputId": "4757cdb6-0791-4aab-b8c8-a8882f213733"
      },
      "execution_count": null,
      "outputs": [
        {
          "output_type": "stream",
          "name": "stderr",
          "text": [
            "Your TensorFlow version is newer than 2.4.0 and so graph support has been removed in eager mode and some static graphs may not be supported. See PR #1483 for discussion.\n"
          ]
        }
      ]
    },
    {
      "cell_type": "code",
      "source": [
        "a = explainer.shap_values([data_X[\"Conv1D_LSTM\"][1][:100],val_X_num[:100]])"
      ],
      "metadata": {
        "id": "PDg74zI3LDAl"
      },
      "execution_count": null,
      "outputs": []
    },
    {
      "cell_type": "code",
      "source": [
        "banana_X_train.columns.tolist()"
      ],
      "metadata": {
        "id": "SJEz2-EKx4r4"
      },
      "execution_count": null,
      "outputs": []
    },
    {
      "cell_type": "code",
      "source": [
        ", feature_names = ['RSV','上價中位數','下價中位數','中價中位數','交易量','平均價','雨量']"
      ],
      "metadata": {
        "id": "d-LtcZsmxq-8"
      },
      "execution_count": null,
      "outputs": []
    },
    {
      "cell_type": "code",
      "source": [
        "shap.summary_plot(a[0][0][:,:,6,:])"
      ],
      "metadata": {
        "id": "dI-IDk6pzY_O"
      },
      "execution_count": null,
      "outputs": []
    },
    {
      "cell_type": "code",
      "source": [
        "shap.summary_plot(a[0][1], feature_names = banana_X_val[cols_name_2[1:]].columns.tolist())"
      ],
      "metadata": {
        "colab": {
          "base_uri": "https://localhost:8080/",
          "height": 693
        },
        "id": "SZPABE7vzXOa",
        "outputId": "e351a45c-9273-4cb8-c0c7-ad0984f8b680"
      },
      "execution_count": null,
      "outputs": [
        {
          "output_type": "display_data",
          "data": {
            "text/plain": [
              "<Figure size 576x684 with 1 Axes>"
            ],
            "image/png": "[encoded data removed]"
          },
          "metadata": {
            "needs_background": "light"
          }
        }
      ]
    }
  ]
}